{
 "cells": [
  {
   "cell_type": "code",
   "execution_count": null,
   "id": "69da939f",
   "metadata": {},
   "outputs": [],
   "source": []
  },
  {
   "cell_type": "code",
   "execution_count": 47,
   "id": "0b1fe1d1",
   "metadata": {},
   "outputs": [],
   "source": [
    "import pandas as pd\n",
    "import numpy as np\n",
    "import seaborn as sns\n",
    "import sklearn\n",
    "import matplotlib.pyplot as plt\n",
    "%matplotlib inline"
   ]
  },
  {
   "cell_type": "code",
   "execution_count": 104,
   "id": "34771458",
   "metadata": {},
   "outputs": [],
   "source": [
    "edf=pd.read_csv('Example_Technical_Skills.csv')"
   ]
  },
  {
   "cell_type": "code",
   "execution_count": 105,
   "id": "6ddf2214",
   "metadata": {},
   "outputs": [
    {
     "data": {
      "text/html": [
       "<div>\n",
       "<style scoped>\n",
       "    .dataframe tbody tr th:only-of-type {\n",
       "        vertical-align: middle;\n",
       "    }\n",
       "\n",
       "    .dataframe tbody tr th {\n",
       "        vertical-align: top;\n",
       "    }\n",
       "\n",
       "    .dataframe thead th {\n",
       "        text-align: right;\n",
       "    }\n",
       "</style>\n",
       "<table border=\"1\" class=\"dataframe\">\n",
       "  <thead>\n",
       "    <tr style=\"text-align: right;\">\n",
       "      <th></th>\n",
       "      <th>Technology Skills</th>\n",
       "    </tr>\n",
       "  </thead>\n",
       "  <tbody>\n",
       "    <tr>\n",
       "      <th>0</th>\n",
       "      <td>SAP Fiori Developer</td>\n",
       "    </tr>\n",
       "    <tr>\n",
       "      <th>1</th>\n",
       "      <td>Oracle Instance Management &amp; Strategy</td>\n",
       "    </tr>\n",
       "    <tr>\n",
       "      <th>2</th>\n",
       "      <td>Boomi Master Data Management</td>\n",
       "    </tr>\n",
       "    <tr>\n",
       "      <th>3</th>\n",
       "      <td>Digital Manufacturing on Cloud ( DMC)</td>\n",
       "    </tr>\n",
       "    <tr>\n",
       "      <th>4</th>\n",
       "      <td>DevOps</td>\n",
       "    </tr>\n",
       "  </tbody>\n",
       "</table>\n",
       "</div>"
      ],
      "text/plain": [
       "                       Technology Skills\n",
       "0                    SAP Fiori Developer\n",
       "1  Oracle Instance Management & Strategy\n",
       "2           Boomi Master Data Management\n",
       "3  Digital Manufacturing on Cloud ( DMC)\n",
       "4                                 DevOps"
      ]
     },
     "execution_count": 105,
     "metadata": {},
     "output_type": "execute_result"
    }
   ],
   "source": [
    "edf.head()"
   ]
  },
  {
   "cell_type": "code",
   "execution_count": 116,
   "id": "48578e6a",
   "metadata": {},
   "outputs": [],
   "source": [
    "eg=edf['Technology Skills'][0]"
   ]
  },
  {
   "cell_type": "code",
   "execution_count": 127,
   "id": "b5fa5e87",
   "metadata": {},
   "outputs": [],
   "source": [
    "tech_skills=list(edf['Technology Skills'].unique())"
   ]
  },
  {
   "cell_type": "code",
   "execution_count": 128,
   "id": "dd03d162",
   "metadata": {},
   "outputs": [],
   "source": [
    "df=pd.read_csv('Raw_Skills_Dataset.csv')"
   ]
  },
  {
   "cell_type": "code",
   "execution_count": 129,
   "id": "5ccd3274",
   "metadata": {},
   "outputs": [
    {
     "name": "stdout",
     "output_type": "stream",
     "text": [
      "<class 'pandas.core.frame.DataFrame'>\n",
      "RangeIndex: 34116 entries, 0 to 34115\n",
      "Data columns (total 1 columns):\n",
      " #   Column    Non-Null Count  Dtype \n",
      "---  ------    --------------  ----- \n",
      " 0   RAW DATA  34116 non-null  object\n",
      "dtypes: object(1)\n",
      "memory usage: 266.7+ KB\n"
     ]
    }
   ],
   "source": [
    "df.info()"
   ]
  },
  {
   "cell_type": "code",
   "execution_count": 132,
   "id": "6592a546",
   "metadata": {},
   "outputs": [
    {
     "data": {
      "text/plain": [
       "<AxesSubplot:>"
      ]
     },
     "execution_count": 132,
     "metadata": {},
     "output_type": "execute_result"
    },
    {
     "data": {
      "image/png": "[encoded data removed]",
      "text/plain": [
       "<Figure size 720x432 with 2 Axes>"
      ]
     },
     "metadata": {
      "needs_background": "light"
     },
     "output_type": "display_data"
    }
   ],
   "source": [
    "plt.figure(figsize=(10,6))\n",
    "sns.heatmap(df.isnull(),yticklabels=False)"
   ]
  },
  {
   "cell_type": "code",
   "execution_count": 133,
   "id": "a0ce75dd",
   "metadata": {},
   "outputs": [],
   "source": [
    "def func(x):\n",
    "    if x in tech_skills:\n",
    "        return 1\n",
    "    else:\n",
    "        return 0"
   ]
  },
  {
   "cell_type": "code",
   "execution_count": 134,
   "id": "64fd00fc",
   "metadata": {},
   "outputs": [],
   "source": [
    "df['Hard_tech_skills']=df['RAW DATA'].apply(func)"
   ]
  },
  {
   "cell_type": "code",
   "execution_count": 138,
   "id": "c41b5ca0",
   "metadata": {},
   "outputs": [
    {
     "data": {
      "text/plain": [
       "0    33857\n",
       "1      259\n",
       "Name: Hard_tech_skills, dtype: int64"
      ]
     },
     "execution_count": 138,
     "metadata": {},
     "output_type": "execute_result"
    }
   ],
   "source": [
    "df['Hard_tech_skills'].value_counts()"
   ]
  },
  {
   "cell_type": "code",
   "execution_count": 140,
   "id": "eda9b9f5",
   "metadata": {},
   "outputs": [],
   "source": [
    "final_data=df[df['Hard_tech_skills']==1]"
   ]
  },
  {
   "cell_type": "code",
   "execution_count": 157,
   "id": "9831b5c9",
   "metadata": {},
   "outputs": [
    {
     "data": {
      "text/plain": [
       "([0,\n",
       "  1,\n",
       "  2,\n",
       "  3,\n",
       "  4,\n",
       "  5,\n",
       "  6,\n",
       "  7,\n",
       "  8,\n",
       "  9,\n",
       "  10,\n",
       "  11,\n",
       "  12,\n",
       "  13,\n",
       "  14,\n",
       "  15,\n",
       "  16,\n",
       "  17,\n",
       "  18,\n",
       "  19,\n",
       "  20,\n",
       "  21,\n",
       "  22,\n",
       "  23,\n",
       "  24,\n",
       "  25,\n",
       "  26,\n",
       "  27,\n",
       "  28,\n",
       "  29,\n",
       "  30,\n",
       "  31,\n",
       "  32,\n",
       "  33,\n",
       "  34,\n",
       "  35],\n",
       " [Text(0, 0, ''),\n",
       "  Text(0, 0, ''),\n",
       "  Text(0, 0, ''),\n",
       "  Text(0, 0, ''),\n",
       "  Text(0, 0, ''),\n",
       "  Text(0, 0, ''),\n",
       "  Text(0, 0, ''),\n",
       "  Text(0, 0, ''),\n",
       "  Text(0, 0, ''),\n",
       "  Text(0, 0, ''),\n",
       "  Text(0, 0, ''),\n",
       "  Text(0, 0, ''),\n",
       "  Text(0, 0, ''),\n",
       "  Text(0, 0, ''),\n",
       "  Text(0, 0, ''),\n",
       "  Text(0, 0, ''),\n",
       "  Text(0, 0, ''),\n",
       "  Text(0, 0, ''),\n",
       "  Text(0, 0, ''),\n",
       "  Text(0, 0, ''),\n",
       "  Text(0, 0, ''),\n",
       "  Text(0, 0, ''),\n",
       "  Text(0, 0, ''),\n",
       "  Text(0, 0, ''),\n",
       "  Text(0, 0, ''),\n",
       "  Text(0, 0, ''),\n",
       "  Text(0, 0, ''),\n",
       "  Text(0, 0, ''),\n",
       "  Text(0, 0, ''),\n",
       "  Text(0, 0, ''),\n",
       "  Text(0, 0, ''),\n",
       "  Text(0, 0, ''),\n",
       "  Text(0, 0, ''),\n",
       "  Text(0, 0, ''),\n",
       "  Text(0, 0, ''),\n",
       "  Text(0, 0, '')])"
      ]
     },
     "execution_count": 157,
     "metadata": {},
     "output_type": "execute_result"
    },
    {
     "data": {
      "image/png": "[encoded data removed]",
      "text/plain": [
       "<Figure size 864x432 with 1 Axes>"
      ]
     },
     "metadata": {
      "needs_background": "light"
     },
     "output_type": "display_data"
    }
   ],
   "source": [
    "plt.figure(figsize=(12,6))\n",
    "\n",
    "sns.histplot(x='RAW DATA',data=final_data,palette='viridis')\n",
    "plt.xticks(rotation=90)\n"
   ]
  },
  {
   "cell_type": "code",
   "execution_count": 150,
   "id": "8a04f831",
   "metadata": {},
   "outputs": [
    {
     "name": "stderr",
     "output_type": "stream",
     "text": [
      "C:\\Users\\affan\\anaconda3\\lib\\site-packages\\pandas\\core\\frame.py:4906: SettingWithCopyWarning: \n",
      "A value is trying to be set on a copy of a slice from a DataFrame\n",
      "\n",
      "See the caveats in the documentation: https://pandas.pydata.org/pandas-docs/stable/user_guide/indexing.html#returning-a-view-versus-a-copy\n",
      "  return super().drop(\n"
     ]
    }
   ],
   "source": [
    "final_data.drop('Hard_tech_skills',axis=1,inplace=True)"
   ]
  },
  {
   "cell_type": "code",
   "execution_count": 159,
   "id": "57cbdc75",
   "metadata": {},
   "outputs": [],
   "source": [
    "List_of_hardtechnical_skills=np.array(final_data['RAW DATA'])"
   ]
  },
  {
   "cell_type": "code",
   "execution_count": 160,
   "id": "68069c2a",
   "metadata": {},
   "outputs": [
    {
     "data": {
      "text/plain": [
       "array(['MySQL', 'SCSS', 'EAC', 'DevOps', 'DevOps', 'OpenShift', 'GitHub',\n",
       "       'MySQL', 'GitHub', 'GitHub', 'MySQL', 'GitHub', 'MySQL',\n",
       "       'NetSuite', 'NetSuite', 'GitHub', 'Bitbucket', 'GitHub',\n",
       "       'Bitbucket', 'GitHub', 'Bitbucket', 'Ethereum', 'Kotlin', 'Kotlin',\n",
       "       'GitHub', 'Kotlin', 'Kotlin', 'Kotlin', 'Kotlin', 'Kotlin',\n",
       "       'Kotlin', 'Kotlin', 'MySQL', 'Bash', 'Bash', 'GitHub', 'Bash',\n",
       "       'Ethereum', 'Ethereum', 'Ethereum', 'Ethereum', 'Ethereum',\n",
       "       'Ethereum', 'GitHub', 'Bitbucket', 'MySQL', 'SCSS', 'DevOps',\n",
       "       'FTP', 'MySQL', 'DevOps', 'DevOps', 'MySQL', 'OneStream', 'DevOps',\n",
       "       'DevOps', 'Bash', 'GitHub', 'MySQL', 'DevOps', 'MySQL', 'DevOps',\n",
       "       'GitHub', 'MySQL', 'DevOps', 'DevOps', 'MySQL', 'Consul',\n",
       "       'OpenShift', 'DevOps', 'MySQL', 'DevOps', 'MySQL', 'DevOps',\n",
       "       'DevOps', 'DevOps', 'DevOps', 'DevOps', 'DevOps', 'DevOps',\n",
       "       'DevOps', 'GitHub', 'OpenShift', 'OpenShift', 'DevOps', 'GitHub',\n",
       "       'Force.com', 'MySQL', 'Kotlin', 'Kotlin', 'GitHub', 'MySQL',\n",
       "       'DevOps', 'Kotlin', 'Amazon Lambda', 'GitHub', 'Radius', 'Bash',\n",
       "       'MySQL', 'Gulp', 'MySQL', 'Guidewire PolicyCenter', 'DevOps',\n",
       "       'Consul', 'Kotlin', 'Kotlin', 'Kotlin', 'GitHub', 'MySQL', 'MySQL',\n",
       "       'Adobe Photoshop', 'MySQL', 'Eclipse', 'MySQL', 'GitHub', 'DevOps',\n",
       "       'DevOps', 'DevOps', 'MySQL', 'MySQL', 'MySQL', 'Eclipse', 'DevOps',\n",
       "       'GitHub', 'MySQL', 'GitHub', 'MySQL', 'MySQL', 'Bitbucket',\n",
       "       'DevOps', 'Bash', 'Eclipse', 'DevOps', 'OpenShift', 'FTP', 'Bash',\n",
       "       'Bitbucket', 'Gulp', 'MySQL', 'DevOps', 'Phantom', 'MySQL',\n",
       "       'Eclipse', 'Magento', 'MySQL', 'DevOps', 'OpenShift', 'DevOps',\n",
       "       'Bitbucket', 'Adobe Photoshop', 'MySQL',\n",
       "       'Microsoft Azure Networking', 'MySQL', 'DevOps', 'GitHub', 'MySQL',\n",
       "       'Kotlin', 'DevOps', 'Bash', 'Gulp', 'DevOps', 'MySQL', 'Kotlin',\n",
       "       'MySQL', 'GitHub', 'DevOps', 'MySQL', 'MySQL', 'OpenShift',\n",
       "       'MySQL', 'MySQL', 'Magento', 'DevOps', 'MySQL', 'MySQL', 'DevOps',\n",
       "       'DevOps', 'Ethereum', 'ActiveMQ', 'Kotlin', 'Kotlin', 'Kotlin',\n",
       "       'ActiveMQ', 'Kotlin', 'Kotlin', 'ActiveMQ', 'ActiveMQ', 'ActiveMQ',\n",
       "       'Kotlin', 'Kotlin', 'ActiveMQ', 'ActiveMQ', 'Kotlin', 'SCSS',\n",
       "       'Magento', 'SAP Lumira', 'SAP Analytics Cloud', 'MySQL',\n",
       "       'Ethereum', 'Ethereum', 'PostGIS', 'MySQL', 'Ethereum', 'MySQL',\n",
       "       'DevOps', 'MySQL', 'Bitbucket', 'DevOps', 'MySQL', 'MySQL',\n",
       "       'SAS JMP', 'GitHub', 'Kotlin', 'NuGet', 'ActiveMQ', 'DevOps',\n",
       "       'MySQL', 'PostGIS', 'MySQL', 'Bash', 'ActiveMQ', 'MySQL', 'MySQL',\n",
       "       'MySQL', 'GitHub', 'MySQL', 'MySQL', 'GitHub', 'GitHub', 'DevOps',\n",
       "       'MySQL', 'MySQL', 'DRM', 'Bitbucket', 'SAS Enterprise Guide',\n",
       "       'DevOps', 'OpenShift', 'Katalon', 'SCSS', 'Apache Oozie', 'Kotlin',\n",
       "       'SCSS', 'Octopus Deploy', 'Bash', 'Octopus Deploy', 'Bash',\n",
       "       'Octopus Deploy', 'Bash', 'DevOps', 'Kotlin', 'Consul', 'GitHub',\n",
       "       'Consul', 'GitHub', 'Bitbucket', 'Consul', 'GitHub', 'DevOps',\n",
       "       'SAS Base'], dtype=object)"
      ]
     },
     "execution_count": 160,
     "metadata": {},
     "output_type": "execute_result"
    }
   ],
   "source": [
    "List_of_hardtechnical_skills"
   ]
  },
  {
   "cell_type": "code",
   "execution_count": null,
   "id": "9c0cfe3d",
   "metadata": {},
   "outputs": [],
   "source": []
  }
 ],
 "metadata": {
  "kernelspec": {
   "display_name": "Python 3 (ipykernel)",
   "language": "python",
   "name": "python3"
  },
  "language_info": {
   "codemirror_mode": {
    "name": "ipython",
    "version": 3
   },
   "file_extension": ".py",
   "mimetype": "text/x-python",
   "name": "python",
   "nbconvert_exporter": "python",
   "pygments_lexer": "ipython3",
   "version": "3.9.7"
  }
 },
 "nbformat": 4,
 "nbformat_minor": 5
}
